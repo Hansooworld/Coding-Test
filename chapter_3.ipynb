{
 "cells": [
  {
   "attachments": {},
   "cell_type": "markdown",
   "metadata": {},
   "source": [
    "## Chapter 3. 그리디"
   ]
  },
  {
   "attachments": {},
   "cell_type": "markdown",
   "metadata": {},
   "source": [
    "####  1. 숫자 카드 게임"
   ]
  },
  {
   "cell_type": "code",
   "execution_count": 8,
   "metadata": {},
   "outputs": [
    {
     "name": "stdout",
     "output_type": "stream",
     "text": [
      "1\n"
     ]
    }
   ],
   "source": [
    "N, M = map(int, input(\"Please enter your parameter: \").split())\n",
    "\n",
    "min_num = 0\n",
    "\n",
    "for i in range(N):\n",
    "    row = list(map(int, input(\"Enter row: \").split()))\n",
    "    row.sort()\n",
    "    if min_num < row[0]:\n",
    "        min_num = row[0]\n",
    "\n",
    "print(min_num)"
   ]
  },
  {
   "attachments": {},
   "cell_type": "markdown",
   "metadata": {},
   "source": [
    "####  2. 1이 될 때까지"
   ]
  },
  {
   "cell_type": "code",
   "execution_count": 7,
   "metadata": {},
   "outputs": [
    {
     "name": "stdout",
     "output_type": "stream",
     "text": [
      "6\n"
     ]
    }
   ],
   "source": [
    "N, K = map(int, input(\"Enter your N,K: \").split())\n",
    "\n",
    "count = 0\n",
    "FLAG= True\n",
    "\n",
    "while FLAG:\n",
    "    if N % K == 0:\n",
    "        N = N/K\n",
    "        count += 1\n",
    "    else:\n",
    "        N = N-1\n",
    "        count += 1\n",
    "    if N == 1:\n",
    "        FLAG = False\n",
    "\n",
    "print(count)"
   ]
  }
 ],
 "metadata": {
  "kernelspec": {
   "display_name": "Python 3",
   "language": "python",
   "name": "python3"
  },
  "language_info": {
   "codemirror_mode": {
    "name": "ipython",
    "version": 3
   },
   "file_extension": ".py",
   "mimetype": "text/x-python",
   "name": "python",
   "nbconvert_exporter": "python",
   "pygments_lexer": "ipython3",
   "version": "3.9.6 (default, Oct 18 2022, 12:41:40) \n[Clang 14.0.0 (clang-1400.0.29.202)]"
  },
  "orig_nbformat": 4,
  "vscode": {
   "interpreter": {
    "hash": "31f2aee4e71d21fbe5cf8b01ff0e069b9275f58929596ceb00d14d90e3e16cd6"
   }
  }
 },
 "nbformat": 4,
 "nbformat_minor": 2
}
