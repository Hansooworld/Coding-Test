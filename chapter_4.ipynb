{
 "cells": [
  {
   "cell_type": "markdown",
   "metadata": {},
   "source": [
    "#### Chapter 4. 구현"
   ]
  },
  {
   "cell_type": "markdown",
   "metadata": {},
   "source": [
    "[1. 상하좌우]"
   ]
  },
  {
   "cell_type": "code",
   "execution_count": 17,
   "metadata": {},
   "outputs": [
    {
     "name": "stdout",
     "output_type": "stream",
     "text": [
      "['R', 'R', 'R', 'U', 'D', 'D']\n",
      "3 4\n"
     ]
    }
   ],
   "source": [
    "N = int(input(\"Enter size: \"))\n",
    "\n",
    "Plan = list(map(str, input(\"Enter you plan: \").split()))\n",
    "print(Plan)\n",
    "start_pos = [1, 1]\n",
    "\n",
    "for key in Plan:\n",
    "    if key == \"L\":\n",
    "        start_pos[1] -= 1\n",
    "        if not 1<=start_pos[0]<=5:\n",
    "            start_pos[1] += 1\n",
    "    elif key == \"R\":\n",
    "        start_pos[1] += 1\n",
    "        if not 1<=start_pos[0]<=5:\n",
    "            start_pos[1] -= 1\n",
    "    elif key == \"U\":\n",
    "        start_pos[0] -= 1\n",
    "        if not 1<=start_pos[0]<=5:\n",
    "            start_pos[0] += 1\n",
    "    else:\n",
    "        start_pos[0] += 1\n",
    "        if not 1<=start_pos[0]<=5:\n",
    "            start_pos[0] -= 1\n",
    "\n",
    "print(start_pos[0], start_pos[1])"
   ]
  },
  {
   "cell_type": "markdown",
   "metadata": {},
   "source": [
    "[2. 시각]"
   ]
  },
  {
   "cell_type": "code",
   "execution_count": 43,
   "metadata": {},
   "outputs": [
    {
     "name": "stdout",
     "output_type": "stream",
     "text": [
      "11475\n"
     ]
    }
   ],
   "source": [
    "N = int(input(\"Enter your hour: \"))\n",
    "\n",
    "count = 0\n",
    "\n",
    "for hour in range(N+1):\n",
    "    for miniute in range(60):\n",
    "        for second in range(60):\n",
    "            check = False\n",
    "            hour = str(hour)\n",
    "            miniute = str(miniute)\n",
    "            second = str(second)\n",
    "            time = hour + miniute + second\n",
    "            for i in list(time):\n",
    "                if i == \"3\":\n",
    "                    check = True\n",
    "            if check:\n",
    "                count += 1\n",
    "\n",
    "print(count)"
   ]
  },
  {
   "cell_type": "markdown",
   "metadata": {},
   "source": [
    "[3. 왕실의 나이트]"
   ]
  },
  {
   "cell_type": "code",
   "execution_count": 12,
   "metadata": {},
   "outputs": [
    {
     "name": "stdout",
     "output_type": "stream",
     "text": [
      "6\n"
     ]
    }
   ],
   "source": [
    "current_pos = input(\"Please enter your position: \")\n",
    "\n",
    "row = ['a', 'b', 'c', 'd', 'e', 'f', 'g', 'h']\n",
    "column = [1, 2, 3, 4, 5, 6, 7, 8]\n",
    "\n",
    "current_row_idx = row.index(current_pos[0])\n",
    "current_column_idx = column.index(int(current_pos[1]))\n",
    "\n",
    "count = 0\n",
    "steps=[[2, 1], [2, -1], [1, 2], [1, -2], [-2, 1], [-2, -1], [-1, 2], [-1, -2]]\n",
    "\n",
    "for step in steps:\n",
    "    after_row_idx = current_row_idx + step[0]\n",
    "    after_column_idx = current_column_idx + step[1]\n",
    "    if 0 <= after_row_idx < len(row) and 0 <= after_column_idx < len(row):\n",
    "        count += 1\n",
    "\n",
    "print(count)"
   ]
  },
  {
   "cell_type": "markdown",
   "metadata": {},
   "source": [
    "[4. 8진수에서 2진수]"
   ]
  },
  {
   "cell_type": "code",
   "execution_count": 6,
   "metadata": {},
   "outputs": [
    {
     "name": "stdout",
     "output_type": "stream",
     "text": [
      "2 진수: 11001100\n"
     ]
    }
   ],
   "source": [
    "Number =list(input(\"Enter your number: \"))\n",
    "\n",
    "sum = 0\n",
    "for idx, n in enumerate(list(reversed(Number))):\n",
    "    sum +=  int(n) * (8**idx)\n",
    "\n",
    "binary_list = []\n",
    "while True:\n",
    "    r = sum % 2 \n",
    "    binary_list.append(r)\n",
    "    sum = sum // 2\n",
    "\n",
    "    if sum == 1:\n",
    "        binary_list.append(1)\n",
    "        break\n",
    "\n",
    "answer = \"\"\n",
    "for i in list(reversed(binary_list)):\n",
    "    answer = answer+str(i)\n",
    "\n",
    "print(\"2 진수: {}\".format(answer))"
   ]
  },
  {
   "cell_type": "markdown",
   "metadata": {},
   "source": [
    "[5. 게임 개발]"
   ]
  },
  {
   "cell_type": "code",
   "execution_count": null,
   "metadata": {},
   "outputs": [],
   "source": []
  }
 ],
 "metadata": {
  "kernelspec": {
   "display_name": "Python 3.8.9 64-bit",
   "language": "python",
   "name": "python3"
  },
  "language_info": {
   "codemirror_mode": {
    "name": "ipython",
    "version": 3
   },
   "file_extension": ".py",
   "mimetype": "text/x-python",
   "name": "python",
   "nbconvert_exporter": "python",
   "pygments_lexer": "ipython3",
   "version": "3.8.9"
  },
  "orig_nbformat": 4,
  "vscode": {
   "interpreter": {
    "hash": "31f2aee4e71d21fbe5cf8b01ff0e069b9275f58929596ceb00d14d90e3e16cd6"
   }
  }
 },
 "nbformat": 4,
 "nbformat_minor": 2
}
