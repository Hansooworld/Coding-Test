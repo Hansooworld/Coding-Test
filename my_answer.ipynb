{
 "cells": [
  {
   "cell_type": "markdown",
   "metadata": {},
   "source": [
    "#### Chapter 3. 그리디"
   ]
  },
  {
   "cell_type": "markdown",
   "metadata": {},
   "source": [
    "3. 숫자 카드 게임"
   ]
  },
  {
   "cell_type": "code",
   "execution_count": 8,
   "metadata": {},
   "outputs": [
    {
     "name": "stdout",
     "output_type": "stream",
     "text": [
      "1\n"
     ]
    }
   ],
   "source": [
    "N, M = map(int, input(\"Please enter your parameter: \").split())\n",
    "\n",
    "min_num = 0\n",
    "\n",
    "for i in range(N):\n",
    "    row = list(map(int, input(\"Enter row: \").split()))\n",
    "    row.sort()\n",
    "    if min_num < row[0]:\n",
    "        min_num = row[0]\n",
    "\n",
    "print(min_num)"
   ]
  },
  {
   "cell_type": "markdown",
   "metadata": {},
   "source": [
    "4. 1이 될 때까지"
   ]
  },
  {
   "cell_type": "code",
   "execution_count": 7,
   "metadata": {},
   "outputs": [
    {
     "name": "stdout",
     "output_type": "stream",
     "text": [
      "6\n"
     ]
    }
   ],
   "source": [
    "N, K = map(int, input(\"Enter your N,K: \").split())\n",
    "\n",
    "count = 0\n",
    "FLAG= True\n",
    "\n",
    "while FLAG:\n",
    "    if N % K == 0:\n",
    "        N = N/K\n",
    "        count += 1\n",
    "    else:\n",
    "        N = N-1\n",
    "        count += 1\n",
    "    if N == 1:\n",
    "        FLAG = False\n",
    "\n",
    "print(count)"
   ]
  },
  {
   "cell_type": "markdown",
   "metadata": {},
   "source": [
    "#### Chapter 4. 구현"
   ]
  },
  {
   "cell_type": "markdown",
   "metadata": {},
   "source": [
    "1. 상하좌우"
   ]
  },
  {
   "cell_type": "code",
   "execution_count": 17,
   "metadata": {},
   "outputs": [
    {
     "name": "stdout",
     "output_type": "stream",
     "text": [
      "['R', 'R', 'R', 'U', 'D', 'D']\n",
      "3 4\n"
     ]
    }
   ],
   "source": [
    "N = int(input(\"Enter size: \"))\n",
    "\n",
    "Plan = list(map(str, input(\"Enter you plan: \").split()))\n",
    "print(Plan)\n",
    "start_pos = [1, 1]\n",
    "\n",
    "for key in Plan:\n",
    "    if key == \"L\":\n",
    "        start_pos[1] -= 1\n",
    "        if not 1<=start_pos[0]<=5:\n",
    "            start_pos[1] += 1\n",
    "    elif key == \"R\":\n",
    "        start_pos[1] += 1\n",
    "        if not 1<=start_pos[0]<=5:\n",
    "            start_pos[1] -= 1\n",
    "    elif key == \"U\":\n",
    "        start_pos[0] -= 1\n",
    "        if not 1<=start_pos[0]<=5:\n",
    "            start_pos[0] += 1\n",
    "    else:\n",
    "        start_pos[0] += 1\n",
    "        if not 1<=start_pos[0]<=5:\n",
    "            start_pos[0] -= 1\n",
    "\n",
    "print(start_pos[0], start_pos[1])"
   ]
  },
  {
   "cell_type": "markdown",
   "metadata": {},
   "source": [
    "2. 시각"
   ]
  },
  {
   "cell_type": "code",
   "execution_count": 43,
   "metadata": {},
   "outputs": [
    {
     "name": "stdout",
     "output_type": "stream",
     "text": [
      "11475\n"
     ]
    }
   ],
   "source": [
    "N = int(input(\"Enter your hour: \"))\n",
    "\n",
    "count = 0\n",
    "\n",
    "for hour in range(N+1):\n",
    "    for miniute in range(60):\n",
    "        for second in range(60):\n",
    "            check = False\n",
    "            hour = str(hour)\n",
    "            miniute = str(miniute)\n",
    "            second = str(second)\n",
    "            time = hour + miniute + second\n",
    "            for i in list(time):\n",
    "                if i == \"3\":\n",
    "                    check = True\n",
    "            if check:\n",
    "                count += 1\n",
    "\n",
    "print(count)"
   ]
  },
  {
   "cell_type": "markdown",
   "metadata": {},
   "source": [
    "3. 왕실의 나이트"
   ]
  },
  {
   "cell_type": "code",
   "execution_count": null,
   "metadata": {},
   "outputs": [],
   "source": [
    "3. 왕실의 나이트"
   ]
  }
 ],
 "metadata": {
  "kernelspec": {
   "display_name": "Python 3.8.13 ('main')",
   "language": "python",
   "name": "python3"
  },
  "language_info": {
   "codemirror_mode": {
    "name": "ipython",
    "version": 3
   },
   "file_extension": ".py",
   "mimetype": "text/x-python",
   "name": "python",
   "nbconvert_exporter": "python",
   "pygments_lexer": "ipython3",
   "version": "3.8.13"
  },
  "orig_nbformat": 4,
  "vscode": {
   "interpreter": {
    "hash": "9e03dfecbcda9621f311de55d4309696f17565c764ec23a389b7b66e478d2973"
   }
  }
 },
 "nbformat": 4,
 "nbformat_minor": 2
}
